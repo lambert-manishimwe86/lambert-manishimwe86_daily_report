{
 "cells": [
  {
   "cell_type": "code",
   "execution_count": 3,
   "id": "3dda46a8",
   "metadata": {},
   "outputs": [
    {
     "name": "stdout",
     "output_type": "stream",
     "text": [
      "Enter a natural number n: 12\n",
      "Sum for odd i values (i + 3): 54\n"
     ]
    }
   ],
   "source": [
    "### Question 1\n",
    "# i) summation of series\n",
    "n = int(input(\"Enter a natural number n: \"))\n",
    "\n",
    "sum_odd = 0\n",
    "for i in range(n):\n",
    "    if i % 2 != 0:  \n",
    "        sum_odd += (i + 3)\n",
    "print(\"Sum for odd i values (i + 3):\", sum_odd)\n",
    "  \n",
    "      "
   ]
  },
  {
   "cell_type": "code",
   "execution_count": 4,
   "id": "7ce681cd",
   "metadata": {},
   "outputs": [
    {
     "name": "stdout",
     "output_type": "stream",
     "text": [
      "Enter a natural number n: 12\n",
      "Summation for even i values (i + 3): 48\n"
     ]
    }
   ],
   "source": [
    "product =  int(input(\"Enter a natural number n: \"))\n",
    "sum_even = 0\n",
    "\n",
    "for i in range(product):\n",
    "    if i % 2 == 0: \n",
    "        sum_even += (i + 3)\n",
    "\n",
    "print(\"Summation for even i values (i + 3):\", sum_even)\n"
   ]
  },
  {
   "cell_type": "code",
   "execution_count": 5,
   "id": "d43703bd",
   "metadata": {},
   "outputs": [
    {
     "name": "stdout",
     "output_type": "stream",
     "text": [
      "Enter a number for the day of the week (0 for Sunday to 6 for Saturday): 1\n",
      "Working day: Monday\n"
     ]
    }
   ],
   "source": [
    "# Question 2\n",
    "\n",
    "day = int(input(\"Enter a number for the day of the week (0 for Sunday to 6 for Saturday): \"))\n",
    "\n",
    "days_of_week = [\"Sunday\", \"Monday\", \"Tuesday\", \"Wednesday\", \"Thursday\", \"Friday\", \"Saturday\"]\n",
    "\n",
    "if day in range(1, 6):  \n",
    "    print(f\"Working day: {days_of_week[day]}\")\n",
    "elif day == 0 or day == 6:  \n",
    "    print(\"Weekend\")\n",
    "else:\n",
    "    print(\"Invalid day number. Please enter a number between 0 and 6.\")\n"
   ]
  },
  {
   "cell_type": "code",
   "execution_count": 6,
   "id": "b35ab2d1",
   "metadata": {},
   "outputs": [
    {
     "name": "stdout",
     "output_type": "stream",
     "text": [
      "Enter month number (0 for January, 11 for December): 11\n",
      "Month 11 has 31 days.\n"
     ]
    }
   ],
   "source": [
    "# Question3\n",
    "def days_in_month(month):\n",
    "  \n",
    "    days = [31, 28, 31, 30, 31, 30, 31, 31, 30, 31, 30, 31]\n",
    "    \n",
    "    if 0 <= month <= 11:\n",
    "        return days[month]\n",
    "    else:\n",
    "        return \"Invalid month number. Please enter a number between 0 and 11.\"\n",
    "\n",
    "month_number = int(input(\"Enter month number (0 for January, 11 for December): \"))\n",
    "print(f\"Month {month_number} has {days_in_month(month_number)} days.\")\n"
   ]
  },
  {
   "cell_type": "code",
   "execution_count": 7,
   "id": "ffa9726b",
   "metadata": {},
   "outputs": [
    {
     "name": "stdout",
     "output_type": "stream",
     "text": [
      "Lambert\n",
      "Lambert\n",
      "Lambert\n",
      "Lambert\n",
      "Lambert\n",
      "Lambert\n"
     ]
    }
   ],
   "source": [
    "# Question4\n",
    "# i) by using a for loop\n",
    "name = \"Lambert\"\n",
    "for i in range(3):\n",
    "    print(name)\n",
    "    \n",
    "# ii) by a while loop\n",
    "\n",
    "name = \"Lambert\"\n",
    "count = 0\n",
    "while count < 3:\n",
    "    print(name)\n",
    "    count += 1\n",
    "\n"
   ]
  },
  {
   "cell_type": "code",
   "execution_count": 8,
   "id": "2266e43a",
   "metadata": {},
   "outputs": [
    {
     "name": "stdout",
     "output_type": "stream",
     "text": [
      "Enter a natural number: 2\n",
      "Divisors of 2 are:\n",
      "1\n",
      "2\n"
     ]
    }
   ],
   "source": [
    "#Question 9\n",
    "# a)\n",
    "def print_divisors(n):\n",
    "    print(f\"Divisors of {n} are:\")\n",
    "    for i in range(1, n + 1):\n",
    "        if n % i == 0:\n",
    "            print(i)\n",
    "            \n",
    "number = int(input(\"Enter a natural number: \"))\n",
    "print_divisors(number)\n",
    "\n"
   ]
  },
  {
   "cell_type": "code",
   "execution_count": 9,
   "id": "6348175b",
   "metadata": {},
   "outputs": [
    {
     "name": "stdout",
     "output_type": "stream",
     "text": [
      "Enter an integer: 12\n",
      "The prime factors of 12 are: [2, 2, 3]\n"
     ]
    }
   ],
   "source": [
    "#b)\n",
    "\n",
    "def prime_factors(n):\n",
    "    factors = []\n",
    "    while n % 2 == 0:\n",
    "        factors.append(2)\n",
    "        n = n // 2\n",
    "\n",
    "    for i in range(3, int(n**0.5) + 1, 2):\n",
    "        while n % i == 0:\n",
    "            factors.append(i)\n",
    "            n = n // i\n",
    "\n",
    "    if n > 2:\n",
    "        factors.append(n)\n",
    "    \n",
    "    return factors\n",
    "\n",
    "num = int(input(\"Enter an integer: \"))\n",
    "\n",
    "print(f\"The prime factors of {num} are: {prime_factors(num)}\")\n",
    "\n",
    "\n",
    "\n",
    "\n",
    "\n",
    "\n",
    "\n",
    "\n",
    "\n"
   ]
  },
  {
   "cell_type": "code",
   "execution_count": 10,
   "id": "ffc13c52",
   "metadata": {
    "scrolled": true
   },
   "outputs": [
    {
     "name": "stdout",
     "output_type": "stream",
     "text": [
      "0\n",
      "3\n",
      "6\n",
      "7\n",
      "9\n",
      "11\n",
      "12\n",
      "14\n",
      "15\n",
      "18\n",
      "21\n",
      "22\n",
      "24\n",
      "27\n",
      "28\n",
      "30\n",
      "33\n",
      "35\n",
      "36\n",
      "39\n"
     ]
    }
   ],
   "source": [
    "# Question 11\n",
    "\n",
    "for number in range(40): \n",
    "    if number % 3 == 0 or number % 7 == 0 or number % 11 == 0:\n",
    "        print(number)\n"
   ]
  },
  {
   "cell_type": "code",
   "execution_count": 12,
   "id": "6c40af24",
   "metadata": {},
   "outputs": [
    {
     "name": "stdout",
     "output_type": "stream",
     "text": [
      "Enter a year: 2080\n",
      "2080 is a leap year.\n"
     ]
    }
   ],
   "source": [
    "# Question 7\n",
    "# a)\n",
    "\n",
    "def is_leap_year(year):\n",
    "    if (year % 4 == 0 and year % 100 != 0) or (year % 400 == 0):\n",
    "        return True\n",
    "    else:\n",
    "        return False\n",
    "\n",
    "year_input = int(input(\"Enter a year: \"))\n",
    "\n",
    "if is_leap_year(year_input):\n",
    "    print(f\"{year_input} is a leap year.\")\n",
    "else:\n",
    "    print(f\"{year_input} is not a leap year.\")\n"
   ]
  },
  {
   "cell_type": "code",
   "execution_count": 13,
   "id": "58c033de",
   "metadata": {},
   "outputs": [
    {
     "name": "stdout",
     "output_type": "stream",
     "text": [
      "{2000: True, 1900: False, 2020: True, 2024: True, 2023: False, 2050: False}\n"
     ]
    }
   ],
   "source": [
    "# b)\n",
    "def is_leap_year(year):\n",
    "    return (year % 4 == 0) and (year % 100 != 0) or (year % 400 == 0)\n",
    "\n",
    "test_years = [2000, 1900, 2020, 2024, 2023, 2050]\n",
    "results = {year: is_leap_year(year) for year in test_years}\n",
    "print(results)\n"
   ]
  },
  {
   "cell_type": "code",
   "execution_count": 14,
   "id": "9faf9cb0",
   "metadata": {},
   "outputs": [
    {
     "name": "stdout",
     "output_type": "stream",
     "text": [
      "Enter the x-coordinate (or type 'q' to quit): 12\n",
      "Enter the y-coordinate: -13\n",
      "The point is in the 4th quadrant.\n",
      "Enter the x-coordinate (or type 'q' to quit): q\n",
      "Exiting the program.\n"
     ]
    }
   ],
   "source": [
    "# Question 13\n",
    "def determine_quadrant(x, y):\n",
    "    if x == 0 and y == 0:\n",
    "        return \"The point is at the origin.\"\n",
    "    elif x == 0:\n",
    "        return \"The point lies on the y-axis.\"\n",
    "    elif y == 0:\n",
    "        return \"The point lies on the x-axis.\"\n",
    "    elif x > 0 and y > 0:\n",
    "        return \"The point is in the 1st quadrant.\"\n",
    "    elif x < 0 and y > 0:\n",
    "        return \"The point is in the 2nd quadrant.\"\n",
    "    elif x < 0 and y < 0:\n",
    "        return \"The point is in the 3rd quadrant.\"\n",
    "    elif x > 0 and y < 0:\n",
    "        return \"The point is in the 4th quadrant.\"\n",
    "\n",
    "def main():\n",
    "    while True:\n",
    "        try:\n",
    "        \n",
    "            x = float(input(\"Enter the x-coordinate (or type 'q' to quit): \"))\n",
    "            y = float(input(\"Enter the y-coordinate: \"))\n",
    "            \n",
    "            result = determine_quadrant(x, y)\n",
    "            print(result)\n",
    "        except ValueError:\n",
    "            \n",
    "            print(\"Exiting the program.\")\n",
    "            break\n",
    "\n",
    "main()\n",
    "\n"
   ]
  },
  {
   "cell_type": "code",
   "execution_count": 15,
   "id": "dcbc2dbf",
   "metadata": {},
   "outputs": [
    {
     "name": "stdout",
     "output_type": "stream",
     "text": [
      "Enter an integer between 0 and 9: 2\n",
      "Enter an integer between 0 and 255: 124\n",
      "Multiples of 2 between 0 and 124:\n",
      "0 2 4 6 8 10 12 14 16 18 20 22 24 26 28 30 32 34 36 38 40 42 44 46 48 50 52 54 56 58 60 62 64 66 68 70 72 74 76 78 80 82 84 86 88 90 92 94 96 98 100 102 104 106 108 110 112 114 116 118 120 122 124 \n",
      "Do you want to enter another couple of numbers? (y/n): no\n",
      "Exiting the program.\n"
     ]
    }
   ],
   "source": [
    "# Question\n",
    "\n",
    "def get_integer_in_range(prompt, min_val, max_val):\n",
    "    while True:\n",
    "        try:\n",
    "            num = int(input(prompt))\n",
    "            if min_val <= num < max_val:\n",
    "                return num\n",
    "            else:\n",
    "                print(f\"Please enter a number between {min_val} and {max_val-1}.\")\n",
    "        except ValueError:\n",
    "            print(\"Invalid input, please enter an integer.\")\n",
    "\n",
    "def display_multiples(x, max_val):\n",
    "    print(f\"Multiples of {x} between 0 and {max_val}:\")\n",
    "    for i in range(0, max_val + 1, x):\n",
    "        print(i, end=\" \")\n",
    "    print() \n",
    "\n",
    "def main():\n",
    "    while True:\n",
    "        \n",
    "        x = get_integer_in_range(\"Enter an integer between 0 and 9: \", 0, 10)\n",
    "        \n",
    "        max_val = get_integer_in_range(\"Enter an integer between 0 and 255: \", 0, 256)\n",
    "    \n",
    "        display_multiples(x, max_val)\n",
    "        \n",
    "        continue_choice = input(\"Do you want to enter another couple of numbers? (y/n): \").lower()\n",
    "        if continue_choice != 'y':\n",
    "            print(\"Exiting the program.\")\n",
    "            break\n",
    "\n",
    "main()\n"
   ]
  }
 ],
 "metadata": {
  "kernelspec": {
   "display_name": "Python 3 (ipykernel)",
   "language": "python",
   "name": "python3"
  },
  "language_info": {
   "codemirror_mode": {
    "name": "ipython",
    "version": 3
   },
   "file_extension": ".py",
   "mimetype": "text/x-python",
   "name": "python",
   "nbconvert_exporter": "python",
   "pygments_lexer": "ipython3",
   "version": "3.11.5"
  }
 },
 "nbformat": 4,
 "nbformat_minor": 5
}
