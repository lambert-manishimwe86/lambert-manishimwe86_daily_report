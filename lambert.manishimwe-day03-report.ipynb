{
 "cells": [
  {
   "cell_type": "markdown",
   "metadata": {
    "id": "vuZYRaBzbIcs"
   },
   "source": [
    "## Practical 1: Version Control with Git: `local` "
   ]
  },
  {
   "cell_type": "markdown",
   "metadata": {},
   "source": [
    "<left> <b> <span style=\"color:red;\"> \n",
    "This notebook is focused on version control with a local repository. You are expected to go through it line by line, step by step. Execute each code cell and follow the instructions to understand how to manage version control locally. Experiment with commands, make changes, and observe how they affect your repository. Your hands-on interaction with the examples will enhance your comprehension of local version control practices.\n",
    "</span> </b></left>\n",
    "\n",
    "\n",
    "## You might find [this reference](https://ndpsoftware.com/git-cheatsheet.html#loc=index;) ,   [this command list](https://git-scm.com/docs) as well as  this [resource](https://git-scm.com/docs/gittutorial) very useful for this practical."
   ]
  },
  {
   "cell_type": "markdown",
   "metadata": {
    "id": "be02507b"
   },
   "source": [
    "### What is Version Control ?\n",
    "\n",
    "\n",
    "In software development, revision control systems (RCS) are essential tools. They are widely used across all development environments and by developers everywhere.\n",
    "\n",
    "RCS are versatile and not limited to just software projects; they are also invaluable for managing various types of digital content, including manuscripts, figures, data, and notebooks.\n",
    "\n",
    "Revision control systems (RCS) serve two primary purposes:\n",
    "\n",
    "1. **Track Changes in Source Code:**\n",
    "   - Enable tracking and managing changes to the source code.\n",
    "   - Allow reverting to previous versions if issues arise.\n",
    "   - Support working on multiple \"branches\" of the software at the same time.\n",
    "   - Use tags to identify and manage different versions, such as \"release-1.0\" or \"paper-A-final.\"\n",
    "\n",
    "2. **Facilitate Collaborative Development:**\n",
    "   - Allow multiple contributors to work on the same codebase simultaneously.\n",
    "   - Enable numerous authors to make and integrate changes.\n",
    "   - Provide clear communication and visualization of changes to all team members.\n",
    "\n",
    "\n",
    "\n",
    "\n",
    "### Basic Principles and Terminology of Revision Control Systems (RCS)\n",
    "\n",
    "In an RCS, source code or digital content is managed within a repository.\n",
    "\n",
    "- **Repository:** Stores not only the latest version of files but also the complete history of all changes made to these files since their initial addition to the repository.\n",
    "\n",
    "- **Checkout:** Users obtain a local working copy of the files from the repository. Changes are made to these local files, allowing for additions, deletions, and updates.\n",
    "\n",
    "- **Commit:** After completing a task, changes made to the local files are saved back to the repository.\n",
    "\n",
    "- **Conflict Resolution:** If changes have been made by others to the same files, conflicts may arise. The system often resolves conflicts automatically, but manual intervention may be necessary to merge conflicting changes.\n",
    "\n",
    "- **Branches and Forks:** For larger experimental developments, it’s common to create a new branch, fork, or clone of the repository. The primary branch is usually called `master` or `trunk`. Once work on a branch or fork is finished, it can be merged back into the main branch or repository.\n",
    "\n",
    "- **Distributed RCS:** Systems like Git or Mercurial allow for pulling and pushing changesets between different repositories. For instance, changes can be pushed from a local repository to a central online repository, such as those hosted on platforms like GitHub.\n",
    "\n",
    "\n",
    "In a few words, **version control** is a way to keep a backup of the changes in your\n",
    "files and to store a history of those changes.  The key charateristic of VC is that and it\n",
    "allows many people in a collaboration to make changes to the same files\n",
    "concurrently. VC is done via a VC system and there are a lot of them. [Wikipedia](https://en.wikipedia.org/wiki/Version_control)\n",
    "provides both a nice vocabulary list and a fairly complete table of some\n",
    "popular version control systems and their equivalent commands.\n",
    "\n",
    "\n",
    "\n",
    "### Popular Revision Control Systems\n",
    "\n",
    "- **Git (git):** [http://git-scm.com/](http://git-scm.com/)\n",
    "- **Mercurial (hg):** [http://mercurial.selenic.com/](http://mercurial.selenic.com/)\n",
    "\n",
    "In the remainder of this lecture, we will focus on Git. However, Mercurial is equally effective and operates in a very similar manner.\n",
    "\n",
    "We'll be using git. `Git` is an example of a distributed version control system, distinct from centralized versing control systems. I'll not discuss the distinction, but for now, the table below will\n",
    "suffice.\n",
    "\n",
    "Version Control System Tool Options\n",
    "\n",
    "- **Distributed** \n",
    "  - Decentralized CVS (dcvs)  \n",
    "  - mercurial (hg)\n",
    "  - git (git) \n",
    "  - bazaar (bzr)\n",
    "  \n",
    "- **Centralized**\n",
    "  - concurrent versions system (cvs)\n",
    "  - subversion (svn)"
   ]
  },
  {
   "cell_type": "markdown",
   "metadata": {},
   "source": [
    "## git --help : Getting Help\n",
    "\n",
    "The first thing you should know about any **tool** is how to get **help**. From the command line type\n",
    "\n",
    "```bash\n",
    "$ man git\n",
    "```\n",
    "\n",
    "If you remember from the **shell class**, **man** tells you more about a command and how to use it. The manual entry for the git version control system will appear before you. You may scroll through it using arrows, or you can search for\n",
    "keywords by typing **/** followed by the search term. I'm interested in help, so I type **/help** and then hit enter. It looks like the syntax for getting help with git is **git --help**."
   ]
  },
  {
   "cell_type": "code",
   "execution_count": 4,
   "metadata": {},
   "outputs": [
    {
     "name": "stdout",
     "output_type": "stream",
     "text": [
      "usage: git [-v | --version] [-h | --help] [-C <path>] [-c <name>=<value>]\n",
      "           [--exec-path[=<path>]] [--html-path] [--man-path] [--info-path]\n",
      "           [-p | --paginate | -P | --no-pager] [--no-replace-objects] [--no-lazy-fetch]\n",
      "           [--no-optional-locks] [--no-advice] [--bare] [--git-dir=<path>]\n",
      "           [--work-tree=<path>] [--namespace=<name>] [--config-env=<name>=<envvar>]\n",
      "           <command> [<args>]\n",
      "\n",
      "These are common Git commands used in various situations:\n",
      "\n",
      "start a working area (see also: git help tutorial)\n",
      "   clone     Clone a repository into a new directory\n",
      "   init      Create an empty Git repository or reinitialize an existing one\n",
      "\n",
      "work on the current change (see also: git help everyday)\n",
      "   add       Add file contents to the index\n",
      "   mv        Move or rename a file, a directory, or a symlink\n",
      "   restore   Restore working tree files\n",
      "   rm        Remove files from the working tree and from the index\n",
      "\n",
      "examine the history and state (see also: git help revisions)\n",
      "   bisect    Use binary search to find the commit that introduced a bug\n",
      "   diff      Show changes between commits, commit and working tree, etc\n",
      "   grep      Print lines matching a pattern\n",
      "   log       Show commit logs\n",
      "   show      Show various types of objects\n",
      "   status    Show the working tree status\n",
      "\n",
      "grow, mark and tweak your common history\n",
      "   branch    List, create, or delete branches\n",
      "   commit    Record changes to the repository\n",
      "   merge     Join two or more development histories together\n",
      "   rebase    Reapply commits on top of another base tip\n",
      "   reset     Reset current HEAD to the specified state\n",
      "   switch    Switch branches\n",
      "   tag       Create, list, delete or verify a tag object signed with GPG\n",
      "\n",
      "collaborate (see also: git help workflows)\n",
      "   fetch     Download objects and refs from another repository\n",
      "   pull      Fetch from and integrate with another repository or a local branch\n",
      "   push      Update remote refs along with associated objects\n",
      "\n",
      "'git help -a' and 'git help -g' list available subcommands and some\n",
      "concept guides. See 'git help <command>' or 'git help <concept>'\n",
      "to read about a specific subcommand or concept.\n",
      "See 'git help git' for an overview of the system.\n"
     ]
    }
   ],
   "source": [
    "!git --help\n"
   ]
  },
  {
   "cell_type": "markdown",
   "metadata": {
    "id": "fee39700"
   },
   "source": [
    "To exit the manual page, type `q`.\n",
    "\n",
    "Let's see what happens when we type :\n",
    "\n",
    "```bash\n",
    "$ git --help\n",
    "```\n",
    "\n",
    "Excellent, it gives a list of commands it is able to help with, as well as their descriptions.\n",
    "\n",
    "```bash\n",
    "$  git help <command>' for more information on a specific command.\n",
    "```"
   ]
  },
  {
   "cell_type": "markdown",
   "metadata": {
    "id": "da6e3f66"
   },
   "source": [
    "## git config : Controls the behavior of git\n",
    "A few settings are in order. You don't have to do it now but it is recommanded.\n",
    "\n",
    "```bash\n",
    "$ git config --global user.name \"YOUR NAME\"\n",
    "$ git config --global user.email \"YOUR EMAIL\"\n",
    "```     "
   ]
  },
  {
   "cell_type": "code",
   "execution_count": 5,
   "metadata": {},
   "outputs": [],
   "source": [
    "!git config --global user.name \"Lambert Manishimwe\""
   ]
  },
  {
   "cell_type": "code",
   "execution_count": 6,
   "metadata": {},
   "outputs": [],
   "source": [
    "!git config --global user.email \"lambert.manishimwe@aims.ac.rw\""
   ]
  },
  {
   "cell_type": "markdown",
   "metadata": {
    "id": "1b56ee4f"
   },
   "source": [
    "## git init : Creating a Local Repository\n",
    "\n",
    "To keep track of numerous versions of your work without saving numerous\n",
    "copies, you can make a local repository for it on your computer. What git\n",
    "does is to save the first version, then for each subsequent version it\n",
    "saves only the changes. This is the trick, git only records the difference between\n",
    "the new version and the one before it. With this compact information,\n",
    "git is able to recreate any version on demand by adding the changes to\n",
    "the original in order up to the version of interest.\n",
    "\n",
    "To create your own local (on your own machine) repository, you must\n",
    "initialize the repository with the infrastructure git needs in order to\n",
    "keep a record of things within the repository that you're concerned\n",
    "about. The command to do this is **git init** ."
   ]
  },
  {
   "cell_type": "code",
   "execution_count": 53,
   "metadata": {},
   "outputs": [
    {
     "name": "stdout",
     "output_type": "stream",
     "text": [
      "Reinitialized existing Git repository in C:/Users/user/Downloads/simplestats/simplestats/.git/\n"
     ]
    }
   ],
   "source": [
    "!git init"
   ]
  },
  {
   "cell_type": "markdown",
   "metadata": {
    "id": "884dc97c"
   },
   "source": [
    "* * * * \n",
    "### Practical : Create a Local Repository\n",
    "\n",
    "Step 1 : Initialize your repository. Navigate to `/home`\n",
    "\n",
    "```bash\n",
    "$ cd\n",
    "$ mkdir simplestats\n",
    "$ cd simplestats\n",
    "$ git init\n",
    "Initialized empty Git repository in /home/me/simplestats/.git/\n",
    "```\n"
   ]
  },
  {
   "cell_type": "code",
   "execution_count": 35,
   "metadata": {},
   "outputs": [
    {
     "name": "stdout",
     "output_type": "stream",
     "text": [
      " Volume in drive C is Windows-SSD\n",
      " Volume Serial Number is 2E0D-09AC\n",
      "\n",
      " Directory of C:\\Users\\user\\Downloads\n",
      "\n",
      "09/26/2024  03:51 PM    <DIR>          .\n",
      "09/26/2024  02:46 PM    <DIR>          ..\n",
      "09/26/2024  02:16 PM    <DIR>          .ipynb_checkpoints\n",
      "09/19/2024  10:20 PM             3,041 .RData\n",
      "09/19/2024  10:20 PM               975 .Rhistory\n",
      "06/18/2024  08:39 AM           119,727 AIMS-Rwanda_Entrance Examination_2023.pdf\n",
      "07/18/2024  07:20 PM           193,865 AIMS_assignment_1 (4) (1).pdf\n",
      "07/18/2024  07:20 PM           193,865 AIMS_assignment_1 (4) (2).pdf\n",
      "07/18/2024  07:19 PM           193,865 AIMS_assignment_1 (4).pdf\n",
      "07/20/2024  07:54 PM           202,094 AIMS_Assignment_orginal (1).pdf\n",
      "07/20/2024  07:53 PM           202,094 AIMS_Assignment_orginal.pdf\n",
      "09/15/2024  09:15 PM           114,771 Assignment1_bash (1).pdf\n",
      "09/15/2024  08:15 PM           114,771 Assignment1_bash.pdf\n",
      "08/02/2024  07:33 PM           124,998 Assignment3_ODEs.pdf\n",
      "09/14/2024  11:54 PM            68,710 Assignment_2_about_mathematical_solving_problem.pdf\n",
      "08/25/2024  11:06 AM           728,273 BWIZA.pdf\n",
      "04/27/2024  06:44 PM           201,394 CamScanner 04-27-2024 14.01.pdf\n",
      "05/23/2024  11:16 AM           337,127 CamScanner 05-23-2024 10.54 (1).pdf\n",
      "05/23/2024  11:16 AM           337,127 CamScanner 05-23-2024 10.54 (2).pdf\n",
      "05/23/2024  10:56 AM           337,127 CamScanner 05-23-2024 10.54.pdf\n",
      "11/15/2023  10:49 AM        14,956,456 CamScanner 09-20-2023 08.04.pdf\n",
      "11/08/2023  06:44 AM         1,822,713 CamScanner 12-20-2022 17.34 (1).pdf\n",
      "11/08/2023  06:44 AM         1,822,713 CamScanner 12-20-2022 17.34.pdf\n",
      "09/17/2024  08:54 AM            84,070 DALLúE 2024-09-17 08.54.46 - A visual representation of a small circle next to a larger one, showing the difference in their radii. The circles should be simple, clean, and geomet.webp\n",
      "09/20/2024  09:41 PM         3,974,305 data (1).txt\n",
      "09/19/2024  10:12 PM         3,974,305 data.txt\n",
      "09/20/2024  10:14 PM             5,007 denyse_agahozo_ICLRP.Rmd\n",
      "06/22/2024  09:06 AM    <DIR>          Desktop\n",
      "06/18/2024  08:38 AM         2,043,316 DIFFERENTIAL_EQUATIONS_2022_CHAP_I_III-1.pdf\n",
      "09/20/2024  09:40 PM             5,540 emile_niyitanga_ICLRP.Rmd\n",
      "06/20/2024  07:06 PM            78,908 Exercises_Lec6.pdf\n",
      "06/20/2024  07:05 PM           120,384 Exercises_set1 (1).pdf\n",
      "09/15/2024  10:11 PM        68,220,888 Git-2.46.0-64-bit.exe\n",
      "09/17/2024  10:58 PM           648,556 iclfinalrprojectpleasereadtheinstructionscarefully_.zip\n",
      "07/27/2024  09:36 PM           195,143 imatele57_m2 (3) (1).pdf\n",
      "07/27/2024  09:02 PM           195,143 imatele57_m2 (3).pdf\n",
      "08/03/2024  03:20 PM           237,269 imatele57_m3 (2).pdf\n",
      "06/19/2024  10:27 AM        26,838,630 James Stewart - Essential Calculus_ Early Transcendentals-Brooks Cole (2012).pdf\n",
      "09/20/2024  10:36 PM             5,357 janvier_kwizera_ICL.Rmd\n",
      "09/23/2024  11:15 PM           570,042 lambert.manishimwe-day00-report.ipynb\n",
      "09/24/2024  09:19 PM            79,935 lambert.manishimwe-day01-report.ipynb\n",
      "09/25/2024  08:16 PM            54,285 lambert.manishimwe-day02-report.ipynb\n",
      "09/15/2024  11:53 PM             4,270 lambert_manishimwe_ICL1 (1).tex\n",
      "09/15/2024  11:53 PM             4,270 lambert_manishimwe_ICL1 (2).tex\n",
      "09/15/2024  11:53 PM             4,270 lambert_manishimwe_ICL1 (3).tex\n",
      "09/15/2024  11:22 PM             4,270 lambert_manishimwe_ICL1.tex\n",
      "09/20/2024  07:29 AM             4,142 lambert_manishimwe_ICLRP.Rmd\n",
      "09/20/2024  07:37 AM             4,142 lambert_manishimwe_ICLRPttttttt.Rmd\n",
      "09/20/2024  06:58 AM    <DIR>          lambert_manishimwe_ICLRP_files\n",
      "09/07/2024  11:44 PM            83,782 lambert_manishimwe_MPS.pdf\n",
      "09/14/2024  11:54 PM            68,710 lambert_manishimwe_MPS2.pdf\n",
      "07/20/2024  12:43 PM           141,918 Lan Kam - Assignment 1.pdf\n",
      "06/20/2024  07:06 PM           415,583 Lecture1.pdf\n",
      "06/20/2024  07:05 PM           269,754 Lecture2.pdf\n",
      "08/02/2024  07:35 PM           293,920 Lecture3.pdf\n",
      "06/20/2024  07:05 PM           238,944 Lecture4-1.pdf\n",
      "06/20/2024  07:05 PM           292,624 Lecture5.pdf\n",
      "06/20/2024  07:06 PM           244,379 Lecture7.pdf\n",
      "07/20/2024  09:40 PM           193,562 manishimwelambert86_m1.pdf\n",
      "07/27/2024  10:20 PM           153,822 manishimwelambert86_m2.pdf\n",
      "08/03/2024  10:21 PM         5,793,369 manishimwelambert86_m3.pdf\n",
      "07/20/2024  09:31 PM            15,177 manishimwelambert86_p1.ipynb\n",
      "07/28/2024  11:46 PM           105,782 manishimwelambert86_p2.ipynb\n",
      "08/09/2024  11:18 AM           154,442 MathAssignement4.pdf\n",
      "07/20/2024  07:55 PM           148,209 MathAssignment1 (1).pdf\n",
      "07/20/2024  08:09 PM           148,209 MathAssignment1 (2).pdf\n",
      "07/18/2024  07:11 PM           148,209 MathAssignment1.pdf\n",
      "09/18/2024  08:43 AM           114,727 MPS_Group_14.pdf\n",
      "06/20/2024  09:05 PM            54,053 Nicolas_s_ADV_homework.pdf\n",
      "09/20/2024  11:27 PM             6,756 olivia_nayamba_ICLRP.Rmd\n",
      "07/16/2024  12:37 PM    <DIR>          Pictures\n",
      "09/24/2024  03:28 PM            10,863 Practical_1.ipynb\n",
      "09/13/2024  11:24 PM            73,283 problem-solving2 (1).pdf\n",
      "09/13/2024  11:29 PM            73,283 problem-solving2 (2).pdf\n",
      "09/14/2024  08:29 AM            73,283 problem-solving2 (3).pdf\n",
      "09/13/2024  11:24 PM            73,283 problem-solving2.pdf\n",
      "09/25/2024  08:25 PM            95,455 Proposal_Questions_and_answers_of_python.pdf\n",
      "07/28/2024  07:03 PM           162,949 Python_Assignment II.pdf\n",
      "09/24/2024  02:23 PM    <DIR>          python_course_colab_notebooks-main\n",
      "09/24/2024  02:15 PM         5,064,609 python_course_colab_notebooks-main.zip\n",
      "08/21/2024  06:19 PM         2,302,173 Q&A Prov.. (1).pdf\n",
      "08/21/2024  06:19 PM         2,302,173 Q&A Prov.. (2).pdf\n",
      "08/21/2024  06:29 AM         2,302,173 Q&A Prov...pdf\n",
      "09/07/2024  07:48 PM           151,793 q5 (1).pdf\n",
      "09/07/2024  07:47 PM           151,793 q5.pdf\n",
      "09/20/2024  09:42 PM        46,725,535 RData\n",
      "09/20/2024  09:42 PM            20,431 Rhistory\n",
      "12/20/2023  04:53 AM           391,293 Ronaldo.jpg\n",
      "09/17/2024  09:52 AM           239,867 Rprogramming (1).pdf\n",
      "09/17/2024  09:52 AM           239,867 Rprogramming.pdf\n",
      "09/20/2024  01:49 AM           212,084 RProject (1).pdf\n",
      "09/20/2024  02:18 AM             4,252 RProject (1).Rmd\n",
      "09/19/2024  09:06 PM             2,425 RProject (2).Rmd\n",
      "09/19/2024  09:06 PM             2,425 RProject (3).Rmd\n",
      "09/20/2024  09:41 PM             3,277 RProject (4).Rmd\n",
      "09/19/2024  08:45 PM           212,084 RProject.pdf\n",
      "09/17/2024  10:59 PM             2,425 RProject.Rmd\n",
      "09/26/2024  03:19 PM    <DIR>          simlestats\n",
      "09/26/2024  03:51 PM            45,199 version_control_local.ipynb\n",
      "09/15/2024  10:10 PM       101,245,912 VSCodeUserSetup-x64-1.93.1.exe\n",
      "09/16/2024  10:01 PM            37,684 WhatsApp Image 2024-09-16 at 22.00.49.jpeg\n",
      "              93 File(s)    300,739,957 bytes\n",
      "               8 Dir(s)  368,842,895,360 bytes free\n"
     ]
    }
   ],
   "source": [
    "! dir"
   ]
  },
  {
   "cell_type": "markdown",
   "metadata": {},
   "source": [
    "Step 2 : Browse the directory's hidden files to see what happened here.\n",
    "Open directories, browse file contents. Learn what you can in a minute.\n",
    "\n",
    "```bash\n",
    "$ ls -A .git\n",
    "$ cd .git\n",
    "$ ls -A\n",
    "HEAD        config      description hooks       info        objects     refs      branches\n",
    "```\n",
    "\n"
   ]
  },
  {
   "cell_type": "code",
   "execution_count": 16,
   "metadata": {
    "scrolled": false
   },
   "outputs": [],
   "source": [
    "! mkdir simlestats"
   ]
  },
  {
   "cell_type": "code",
   "execution_count": 19,
   "metadata": {
    "scrolled": false
   },
   "outputs": [
    {
     "name": "stdout",
     "output_type": "stream",
     "text": [
      "[WinError 2] The system cannot find the file specified: 'simplestats'\n",
      "C:\\Users\\user\\Downloads\n"
     ]
    }
   ],
   "source": [
    "cd simplestats"
   ]
  },
  {
   "cell_type": "code",
   "execution_count": 22,
   "metadata": {
    "scrolled": false
   },
   "outputs": [
    {
     "name": "stdout",
     "output_type": "stream",
     "text": [
      "Initialized empty Git repository in C:/Users/user/Downloads/.git/\n"
     ]
    }
   ],
   "source": [
    "! git init"
   ]
  },
  {
   "cell_type": "code",
   "execution_count": null,
   "metadata": {},
   "outputs": [],
   "source": [
    "! dir -A .git"
   ]
  },
  {
   "cell_type": "markdown",
   "metadata": {},
   "source": [
    "Step 3 : Use what you've learned. You may have noticed the file called description. You can describe your repository by opening the description file and replacing the text with a name for the repository.  We will be creating a module with some simple statistical methods, so mine will be called \"Some simple methods for statistical analysis\". You may call yours  anything you like.\n",
    "\n",
    "```bash\n",
    "$ nano description\n",
    "```"
   ]
  },
  {
   "cell_type": "code",
   "execution_count": 5,
   "metadata": {
    "scrolled": false
   },
   "outputs": [],
   "source": [
    "! notepad description"
   ]
  },
  {
   "cell_type": "markdown",
   "metadata": {},
   "source": [
    "You can use `!tree` or `tree` to display the directory structure in a tree-like format"
   ]
  },
  {
   "cell_type": "code",
   "execution_count": 6,
   "metadata": {},
   "outputs": [
    {
     "name": "stdout",
     "output_type": "stream",
     "text": [
      "Folder PATH listing for volume Windows-SSD\n",
      "Volume serial number is 2E0D-09AC\n",
      "C:.\n",
      "+---.ipynb_checkpoints\n",
      "+---Desktop\n",
      "¦   +---ECONOMETRICS\n",
      "¦   +---Films\n",
      "+---lambert_manishimwe_ICLRP_files\n",
      "¦   +---figure-latex\n",
      "+---Pictures\n",
      "¦   +---Screenshots\n",
      "+---python_course_colab_notebooks-main\n",
      "¦   +---python_course_colab_notebooks-main\n",
      "¦       +---.ipynb_checkpoints\n",
      "¦       +---htmls\n",
      "¦       +---pdfs\n",
      "+---simlestats\n",
      "+---simplestats\n",
      "    +---simplestats\n",
      "        +---simplestats\n"
     ]
    }
   ],
   "source": [
    "!tree"
   ]
  },
  {
   "cell_type": "markdown",
   "metadata": {
    "id": "8-rwgD5HbIdj"
   },
   "source": [
    "* * *  *\n",
    "An interesting command I would like you to test is `git status`, I will describe it later but let's see what it displays now.\n",
    "```bash\n",
    "$ git status\n",
    "On branch master\n",
    "\n",
    "No commits yet\n",
    "\n",
    "nothing to commit (create/copy files and use \"git add\" to track)\n",
    "```\n",
    "\n",
    "* * *  *\n"
   ]
  },
  {
   "cell_type": "code",
   "execution_count": 7,
   "metadata": {},
   "outputs": [
    {
     "name": "stdout",
     "output_type": "stream",
     "text": [
      "On branch master\n",
      "\n",
      "No commits yet\n",
      "\n",
      "Untracked files:\n",
      "  (use \"git add <file>...\" to include in what will be committed)\n",
      "\t.RData\n",
      "\t.Rhistory\n",
      "\t.ipynb_checkpoints/\n",
      "\tAIMS-Rwanda_Entrance Examination_2023.pdf\n",
      "\tAIMS_Assignment_orginal (1).pdf\n",
      "\tAIMS_Assignment_orginal.pdf\n",
      "\tAIMS_assignment_1 (4) (1).pdf\n",
      "\tAIMS_assignment_1 (4) (2).pdf\n",
      "\tAIMS_assignment_1 (4).pdf\n",
      "\tAssignment1_bash (1).pdf\n",
      "\tAssignment1_bash.pdf\n",
      "\tAssignment3_ODEs.pdf\n",
      "\tAssignment_2_about_mathematical_solving_problem.pdf\n",
      "\tBWIZA.pdf\n",
      "\tCamScanner 04-27-2024 14.01.pdf\n",
      "\tCamScanner 05-23-2024 10.54 (1).pdf\n",
      "\tCamScanner 05-23-2024 10.54 (2).pdf\n",
      "\tCamScanner 05-23-2024 10.54.pdf\n",
      "\tCamScanner 09-20-2023 08.04.pdf\n",
      "\tCamScanner 12-20-2022 17.34 (1).pdf\n",
      "\tCamScanner 12-20-2022 17.34.pdf\n",
      "\t\"DALL\\302\\267E 2024-09-17 08.54.46 - A visual representation of a small circle next to a larger one, showing the difference in their radii. The circles should be simple, clean, and geomet.webp\"\n",
      "\tDIFFERENTIAL_EQUATIONS_2022_CHAP_I_III-1.pdf\n",
      "\tDesktop/\n",
      "\tExercises_Lec6.pdf\n",
      "\tExercises_set1 (1).pdf\n",
      "\tGit-2.46.0-64-bit.exe\n",
      "\tJames Stewart - Essential Calculus_ Early Transcendentals-Brooks Cole (2012).pdf\n",
      "\tLan Kam - Assignment 1.pdf\n",
      "\tLecture1.pdf\n",
      "\tLecture2.pdf\n",
      "\tLecture3.pdf\n",
      "\tLecture4-1.pdf\n",
      "\tLecture5.pdf\n",
      "\tLecture7.pdf\n",
      "\tMPS_Group_14.pdf\n",
      "\tMathAssignement4.pdf\n",
      "\tMathAssignment1 (1).pdf\n",
      "\tMathAssignment1 (2).pdf\n",
      "\tMathAssignment1.pdf\n",
      "\tNicolas_s_ADV_homework.pdf\n",
      "\tPictures/\n",
      "\tPractical_1.ipynb\n",
      "\tProposal_Questions_and_answers_of_python.pdf\n",
      "\tPython_Assignment II.pdf\n",
      "\tQ&A Prov.. (1).pdf\n",
      "\tQ&A Prov.. (2).pdf\n",
      "\tQ&A Prov...pdf\n",
      "\tRData\n",
      "\tRProject (1).Rmd\n",
      "\tRProject (1).pdf\n",
      "\tRProject (2).Rmd\n",
      "\tRProject (3).Rmd\n",
      "\tRProject (4).Rmd\n",
      "\tRProject.Rmd\n",
      "\tRProject.pdf\n",
      "\tRhistory\n",
      "\tRonaldo.jpg\n",
      "\tRprogramming (1).pdf\n",
      "\tRprogramming.pdf\n",
      "\tVSCodeUserSetup-x64-1.93.1.exe\n",
      "\tWhatsApp Image 2024-09-16 at 22.00.49.jpeg\n",
      "\tdata (1).txt\n",
      "\tdata.txt\n",
      "\tdenyse_agahozo_ICLRP.Rmd\n",
      "\tdescription.txt\n",
      "\tdesktop.ini\n",
      "\temile_niyitanga_ICLRP.Rmd\n",
      "\ticlfinalrprojectpleasereadtheinstructionscarefully_.zip\n",
      "\timatele57_m2 (3) (1).pdf\n",
      "\timatele57_m2 (3).pdf\n",
      "\timatele57_m3 (2).pdf\n",
      "\tjanvier_kwizera_ICL.Rmd\n",
      "\tlambert.manishimwe-day00-report.ipynb\n",
      "\tlambert.manishimwe-day01-report.ipynb\n",
      "\tlambert.manishimwe-day02-report.ipynb\n",
      "\tlambert_manishimwe_ICL1 (1).tex\n",
      "\tlambert_manishimwe_ICL1 (2).tex\n",
      "\tlambert_manishimwe_ICL1 (3).tex\n",
      "\tlambert_manishimwe_ICL1.tex\n",
      "\tlambert_manishimwe_ICLRP.Rmd\n",
      "\tlambert_manishimwe_ICLRP_files/\n",
      "\tlambert_manishimwe_ICLRPttttttt.Rmd\n",
      "\tlambert_manishimwe_MPS.pdf\n",
      "\tlambert_manishimwe_MPS2.pdf\n",
      "\tmanishimwelambert86_m1.pdf\n",
      "\tmanishimwelambert86_m2.pdf\n",
      "\tmanishimwelambert86_m3.pdf\n",
      "\tmanishimwelambert86_p1.ipynb\n",
      "\tmanishimwelambert86_p2.ipynb\n",
      "\tolivia_nayamba_ICLRP.Rmd\n",
      "\tproblem-solving2 (1).pdf\n",
      "\tproblem-solving2 (2).pdf\n",
      "\tproblem-solving2 (3).pdf\n",
      "\tproblem-solving2.pdf\n",
      "\tpython_course_colab_notebooks-main.zip\n",
      "\tpython_course_colab_notebooks-main/\n",
      "\tq5 (1).pdf\n",
      "\tq5.pdf\n",
      "\tsimplestats/\n",
      "\tversion_control_local.ipynb\n",
      "\t~$dels questions-1.docx\n",
      "\t~$ntarama.docx\n",
      "\n",
      "nothing added to commit but untracked files present (use \"git add\" to track)\n"
     ]
    }
   ],
   "source": [
    "!git status"
   ]
  },
  {
   "cell_type": "markdown",
   "metadata": {
    "id": "bdcfca76"
   },
   "source": [
    "## git add : Adding a File To Version Control\n",
    "\n",
    "For the git repository to know which files within this directory you\n",
    "would like to keep track of, you must add them. First, you'll need to\n",
    "create one, then we'll learn the **git add** command."
   ]
  },
  {
   "cell_type": "code",
   "execution_count": null,
   "metadata": {
    "id": "a6f520a2"
   },
   "outputs": [],
   "source": [
    "* * * * \n",
    "### Practical : Add a File to Your Local Repository\n",
    "\n",
    "Step 1 : Create a file to add to your repository.\n",
    "\n",
    "```bash\n",
    "$ touch README.md\n",
    "```\n",
    "\n"
   ]
  },
  {
   "cell_type": "code",
   "execution_count": 8,
   "metadata": {},
   "outputs": [
    {
     "name": "stdout",
     "output_type": "stream",
     "text": [
      "\n",
      "\u0000\n",
      "\u0000\n",
      "\u0000C\u0000o\u0000p\u0000y\u0000r\u0000i\u0000g\u0000h\u0000t\u0000 \u0000(\u0000c\u0000)\u0000 \u0000M\u0000i\u0000c\u0000r\u0000o\u0000s\u0000o\u0000f\u0000t\u0000 \u0000C\u0000o\u0000r\u0000p\u0000o\u0000r\u0000a\u0000t\u0000i\u0000o\u0000n\u0000.\u0000 \u0000A\u0000l\u0000l\u0000 \u0000r\u0000i\u0000g\u0000h\u0000t\u0000s\u0000 \u0000r\u0000e\u0000s\u0000e\u0000r\u0000v\u0000e\u0000d\u0000.\u0000\n",
      "\u0000\n",
      "\u0000\n",
      "\u0000\n",
      "\u0000\n",
      "\u0000\n",
      "\u0000U\u0000s\u0000a\u0000g\u0000e\u0000:\u0000 \u0000w\u0000s\u0000l\u0000.\u0000e\u0000x\u0000e\u0000 \u0000[\u0000A\u0000r\u0000g\u0000u\u0000m\u0000e\u0000n\u0000t\u0000]\u0000\n",
      "\u0000\n",
      "\u0000\n",
      "\u0000\n",
      "\u0000\n",
      "\u0000\n",
      "\u0000A\u0000r\u0000g\u0000u\u0000m\u0000e\u0000n\u0000t\u0000s\u0000:\u0000\n",
      "\u0000\n",
      "\u0000\n",
      "\u0000\n",
      "\u0000\n",
      "\u0000\n",
      "\u0000 \u0000 \u0000 \u0000 \u0000-\u0000-\u0000i\u0000n\u0000s\u0000t\u0000a\u0000l\u0000l\u0000 \u0000<\u0000O\u0000p\u0000t\u0000i\u0000o\u0000n\u0000s\u0000>\u0000\n",
      "\u0000\n",
      "\u0000\n",
      "\u0000 \u0000 \u0000 \u0000 \u0000 \u0000 \u0000 \u0000 \u0000I\u0000n\u0000s\u0000t\u0000a\u0000l\u0000l\u0000 \u0000W\u0000i\u0000n\u0000d\u0000o\u0000w\u0000s\u0000 \u0000S\u0000u\u0000b\u0000s\u0000y\u0000s\u0000t\u0000e\u0000m\u0000 \u0000f\u0000o\u0000r\u0000 \u0000L\u0000i\u0000n\u0000u\u0000x\u0000 \u0000f\u0000e\u0000a\u0000t\u0000u\u0000r\u0000e\u0000s\u0000.\u0000 \u0000I\u0000f\u0000 \u0000n\u0000o\u0000 \u0000o\u0000p\u0000t\u0000i\u0000o\u0000n\u0000s\u0000 \u0000a\u0000r\u0000e\u0000 \u0000s\u0000p\u0000e\u0000c\u0000i\u0000f\u0000i\u0000e\u0000d\u0000,\u0000\n",
      "\u0000\n",
      "\u0000\n",
      "\u0000 \u0000 \u0000 \u0000 \u0000 \u0000 \u0000 \u0000 \u0000t\u0000h\u0000e\u0000 \u0000r\u0000e\u0000c\u0000o\u0000m\u0000m\u0000e\u0000n\u0000d\u0000e\u0000d\u0000 \u0000f\u0000e\u0000a\u0000t\u0000u\u0000r\u0000e\u0000s\u0000 \u0000w\u0000i\u0000l\u0000l\u0000 \u0000b\u0000e\u0000 \u0000i\u0000n\u0000s\u0000t\u0000a\u0000l\u0000l\u0000e\u0000d\u0000 \u0000a\u0000l\u0000o\u0000n\u0000g\u0000 \u0000w\u0000i\u0000t\u0000h\u0000 \u0000t\u0000h\u0000e\u0000 \u0000d\u0000e\u0000f\u0000a\u0000u\u0000l\u0000t\u0000 \u0000d\u0000i\u0000s\u0000t\u0000r\u0000i\u0000b\u0000u\u0000t\u0000i\u0000o\u0000n\u0000.\u0000\n",
      "\u0000\n",
      "\u0000\n",
      "\u0000\n",
      "\u0000\n",
      "\u0000\n",
      "\u0000 \u0000 \u0000 \u0000 \u0000 \u0000 \u0000 \u0000 \u0000T\u0000o\u0000 \u0000v\u0000i\u0000e\u0000w\u0000 \u0000t\u0000h\u0000e\u0000 \u0000d\u0000e\u0000f\u0000a\u0000u\u0000l\u0000t\u0000 \u0000d\u0000i\u0000s\u0000t\u0000r\u0000i\u0000b\u0000u\u0000t\u0000i\u0000o\u0000n\u0000 \u0000a\u0000s\u0000 \u0000w\u0000e\u0000l\u0000l\u0000 \u0000a\u0000s\u0000 \u0000a\u0000 \u0000l\u0000i\u0000s\u0000t\u0000 \u0000o\u0000f\u0000 \u0000o\u0000t\u0000h\u0000e\u0000r\u0000 \u0000v\u0000a\u0000l\u0000i\u0000d\u0000 \u0000d\u0000i\u0000s\u0000t\u0000r\u0000i\u0000b\u0000u\u0000t\u0000i\u0000o\u0000n\u0000s\u0000,\u0000\n",
      "\u0000\n",
      "\u0000\n",
      "\u0000 \u0000 \u0000 \u0000 \u0000 \u0000 \u0000 \u0000 \u0000u\u0000s\u0000e\u0000 \u0000'\u0000w\u0000s\u0000l\u0000 \u0000-\u0000-\u0000l\u0000i\u0000s\u0000t\u0000 \u0000-\u0000-\u0000o\u0000n\u0000l\u0000i\u0000n\u0000e\u0000'\u0000.\u0000\n",
      "\u0000\n",
      "\u0000\n",
      "\u0000\n",
      "\u0000\n",
      "\u0000\n",
      "\u0000 \u0000 \u0000 \u0000 \u0000 \u0000 \u0000 \u0000 \u0000O\u0000p\u0000t\u0000i\u0000o\u0000n\u0000s\u0000:\u0000\n",
      "\u0000\n",
      "\u0000\n",
      "\u0000 \u0000 \u0000 \u0000 \u0000 \u0000 \u0000 \u0000 \u0000 \u0000 \u0000 \u0000 \u0000-\u0000-\u0000d\u0000i\u0000s\u0000t\u0000r\u0000i\u0000b\u0000u\u0000t\u0000i\u0000o\u0000n\u0000,\u0000 \u0000-\u0000d\u0000 \u0000[\u0000A\u0000r\u0000g\u0000u\u0000m\u0000e\u0000n\u0000t\u0000]\u0000\n",
      "\u0000\n",
      "\u0000\n",
      "\u0000 \u0000 \u0000 \u0000 \u0000 \u0000 \u0000 \u0000 \u0000 \u0000 \u0000 \u0000 \u0000 \u0000 \u0000 \u0000 \u0000S\u0000p\u0000e\u0000c\u0000i\u0000f\u0000i\u0000e\u0000s\u0000 \u0000t\u0000h\u0000e\u0000 \u0000d\u0000i\u0000s\u0000t\u0000r\u0000i\u0000b\u0000u\u0000t\u0000i\u0000o\u0000n\u0000 \u0000t\u0000o\u0000 \u0000b\u0000e\u0000 \u0000d\u0000o\u0000w\u0000n\u0000l\u0000o\u0000a\u0000d\u0000e\u0000d\u0000 \u0000a\u0000n\u0000d\u0000 \u0000i\u0000n\u0000s\u0000t\u0000a\u0000l\u0000l\u0000e\u0000d\u0000 \u0000b\u0000y\u0000 \u0000n\u0000a\u0000m\u0000e\u0000.\u0000\n",
      "\u0000\n",
      "\u0000\n",
      "\u0000\n",
      "\u0000\n",
      "\u0000\n",
      "\u0000 \u0000 \u0000 \u0000 \u0000 \u0000 \u0000 \u0000 \u0000 \u0000 \u0000 \u0000 \u0000 \u0000 \u0000 \u0000 \u0000A\u0000r\u0000g\u0000u\u0000m\u0000e\u0000n\u0000t\u0000s\u0000:\u0000\n",
      "\u0000\n",
      "\u0000\n",
      "\u0000 \u0000 \u0000 \u0000 \u0000 \u0000 \u0000 \u0000 \u0000 \u0000 \u0000 \u0000 \u0000 \u0000 \u0000 \u0000 \u0000 \u0000 \u0000 \u0000 \u0000A\u0000 \u0000v\u0000a\u0000l\u0000i\u0000d\u0000 \u0000d\u0000i\u0000s\u0000t\u0000r\u0000i\u0000b\u0000u\u0000t\u0000i\u0000o\u0000n\u0000 \u0000n\u0000a\u0000m\u0000e\u0000 \u0000(\u0000n\u0000o\u0000t\u0000 \u0000c\u0000a\u0000s\u0000e\u0000 \u0000s\u0000e\u0000n\u0000s\u0000i\u0000t\u0000i\u0000v\u0000e\u0000)\u0000.\u0000\n",
      "\u0000\n",
      "\u0000\n",
      "\u0000\n",
      "\u0000\n",
      "\u0000\n",
      "\u0000 \u0000 \u0000 \u0000 \u0000 \u0000 \u0000 \u0000 \u0000 \u0000 \u0000 \u0000 \u0000 \u0000 \u0000 \u0000 \u0000E\u0000x\u0000a\u0000m\u0000p\u0000l\u0000e\u0000s\u0000:\u0000\n",
      "\u0000\n",
      "\u0000\n",
      "\u0000 \u0000 \u0000 \u0000 \u0000 \u0000 \u0000 \u0000 \u0000 \u0000 \u0000 \u0000 \u0000 \u0000 \u0000 \u0000 \u0000 \u0000 \u0000 \u0000 \u0000w\u0000s\u0000l\u0000 \u0000-\u0000-\u0000i\u0000n\u0000s\u0000t\u0000a\u0000l\u0000l\u0000 \u0000-\u0000d\u0000 \u0000U\u0000b\u0000u\u0000n\u0000t\u0000u\u0000\n",
      "\u0000\n",
      "\u0000\n",
      "\u0000 \u0000 \u0000 \u0000 \u0000 \u0000 \u0000 \u0000 \u0000 \u0000 \u0000 \u0000 \u0000 \u0000 \u0000 \u0000 \u0000 \u0000 \u0000 \u0000 \u0000w\u0000s\u0000l\u0000 \u0000-\u0000-\u0000i\u0000n\u0000s\u0000t\u0000a\u0000l\u0000l\u0000 \u0000-\u0000-\u0000d\u0000i\u0000s\u0000t\u0000r\u0000i\u0000b\u0000u\u0000t\u0000i\u0000o\u0000n\u0000 \u0000D\u0000e\u0000b\u0000i\u0000a\u0000n\u0000\n",
      "\u0000\n",
      "\u0000\n",
      "\u0000\n",
      "\u0000\n",
      "\u0000\n",
      "\u0000 \u0000 \u0000 \u0000 \u0000 \u0000 \u0000 \u0000 \u0000 \u0000 \u0000 \u0000 \u0000-\u0000-\u0000i\u0000n\u0000b\u0000o\u0000x\u0000\n",
      "\u0000\n",
      "\u0000\n",
      "\u0000 \u0000 \u0000 \u0000 \u0000 \u0000 \u0000 \u0000 \u0000 \u0000 \u0000 \u0000 \u0000 \u0000 \u0000 \u0000 \u0000I\u0000n\u0000s\u0000t\u0000a\u0000l\u0000l\u0000 \u0000t\u0000h\u0000e\u0000 \u0000o\u0000p\u0000t\u0000i\u0000o\u0000n\u0000a\u0000l\u0000 \u0000W\u0000i\u0000n\u0000d\u0000o\u0000w\u0000s\u0000 \u0000f\u0000e\u0000a\u0000t\u0000u\u0000r\u0000e\u0000 \u0000i\u0000n\u0000s\u0000t\u0000e\u0000a\u0000d\u0000 \u0000o\u0000f\u0000 \u0000t\u0000h\u0000e\u0000 \u0000v\u0000e\u0000r\u0000s\u0000i\u0000o\u0000n\u0000 \u0000a\u0000v\u0000a\u0000i\u0000l\u0000a\u0000b\u0000l\u0000e\u0000 \u0000v\u0000i\u0000a\u0000 \u0000t\u0000h\u0000e\u0000 \u0000M\u0000i\u0000c\u0000r\u0000o\u0000s\u0000o\u0000f\u0000t\u0000 \u0000S\u0000t\u0000o\u0000r\u0000e\u0000.\u0000\n",
      "\u0000\n",
      "\u0000\n",
      "\u0000\n",
      "\u0000\n",
      "\u0000\n",
      "\u0000 \u0000 \u0000 \u0000 \u0000 \u0000 \u0000 \u0000 \u0000 \u0000 \u0000 \u0000 \u0000-\u0000-\u0000e\u0000n\u0000a\u0000b\u0000l\u0000e\u0000-\u0000w\u0000s\u0000l\u00001\u0000\n",
      "\u0000\n",
      "\u0000\n",
      "\u0000 \u0000 \u0000 \u0000 \u0000 \u0000 \u0000 \u0000 \u0000 \u0000 \u0000 \u0000 \u0000 \u0000 \u0000 \u0000 \u0000E\u0000n\u0000a\u0000b\u0000l\u0000e\u0000 \u0000W\u0000S\u0000L\u00001\u0000 \u0000s\u0000u\u0000p\u0000p\u0000o\u0000r\u0000t\u0000 \u0000w\u0000i\u0000t\u0000h\u0000 \u0000t\u0000h\u0000e\u0000 \u0000M\u0000i\u0000c\u0000r\u0000o\u0000s\u0000o\u0000f\u0000t\u0000 \u0000S\u0000t\u0000o\u0000r\u0000e\u0000 \u0000v\u0000e\u0000r\u0000s\u0000i\u0000o\u0000n\u0000.\u0000\n",
      "\u0000\n",
      "\u0000\n",
      "\u0000\n",
      "\u0000\n",
      "\u0000\n",
      "\u0000 \u0000 \u0000 \u0000 \u0000 \u0000 \u0000 \u0000 \u0000 \u0000 \u0000 \u0000 \u0000-\u0000-\u0000n\u0000o\u0000-\u0000d\u0000i\u0000s\u0000t\u0000r\u0000i\u0000b\u0000u\u0000t\u0000i\u0000o\u0000n\u0000\n",
      "\u0000\n",
      "\u0000\n",
      "\u0000 \u0000 \u0000 \u0000 \u0000 \u0000 \u0000 \u0000 \u0000 \u0000 \u0000 \u0000 \u0000 \u0000 \u0000 \u0000 \u0000D\u0000o\u0000 \u0000n\u0000o\u0000t\u0000 \u0000i\u0000n\u0000s\u0000t\u0000a\u0000l\u0000l\u0000 \u0000a\u0000 \u0000d\u0000i\u0000s\u0000t\u0000r\u0000i\u0000b\u0000u\u0000t\u0000i\u0000o\u0000n\u0000 \u0000(\u0000c\u0000a\u0000n\u0000n\u0000o\u0000t\u0000 \u0000b\u0000e\u0000 \u0000u\u0000s\u0000e\u0000d\u0000 \u0000w\u0000i\u0000t\u0000h\u0000 \u0000-\u0000-\u0000d\u0000i\u0000s\u0000t\u0000r\u0000i\u0000b\u0000u\u0000t\u0000i\u0000o\u0000n\u0000)\u0000.\u0000\n",
      "\u0000\n",
      "\u0000\n",
      "\u0000\n",
      "\u0000\n",
      "\u0000\n",
      "\u0000 \u0000 \u0000 \u0000 \u0000 \u0000 \u0000 \u0000 \u0000 \u0000 \u0000 \u0000 \u0000-\u0000-\u0000n\u0000o\u0000-\u0000l\u0000a\u0000u\u0000n\u0000c\u0000h\u0000,\u0000 \u0000-\u0000n\u0000\n",
      "\u0000\n",
      "\u0000\n",
      "\u0000 \u0000 \u0000 \u0000 \u0000 \u0000 \u0000 \u0000 \u0000 \u0000 \u0000 \u0000 \u0000 \u0000 \u0000 \u0000 \u0000D\u0000o\u0000 \u0000n\u0000o\u0000t\u0000 \u0000l\u0000a\u0000u\u0000n\u0000c\u0000h\u0000 \u0000t\u0000h\u0000e\u0000 \u0000d\u0000i\u0000s\u0000t\u0000r\u0000i\u0000b\u0000u\u0000t\u0000i\u0000o\u0000n\u0000 \u0000a\u0000f\u0000t\u0000e\u0000r\u0000 \u0000i\u0000n\u0000s\u0000t\u0000a\u0000l\u0000l\u0000.\u0000\n",
      "\u0000\n",
      "\u0000\n",
      "\u0000\n",
      "\u0000\n",
      "\u0000\n",
      "\u0000 \u0000 \u0000 \u0000 \u0000 \u0000 \u0000 \u0000 \u0000 \u0000 \u0000 \u0000 \u0000-\u0000-\u0000w\u0000e\u0000b\u0000-\u0000d\u0000o\u0000w\u0000n\u0000l\u0000o\u0000a\u0000d\u0000\n",
      "\u0000\n",
      "\u0000\n",
      "\u0000 \u0000 \u0000 \u0000 \u0000 \u0000 \u0000 \u0000 \u0000 \u0000 \u0000 \u0000 \u0000 \u0000 \u0000 \u0000 \u0000D\u0000o\u0000w\u0000n\u0000l\u0000o\u0000a\u0000d\u0000 \u0000t\u0000h\u0000e\u0000 \u0000m\u0000o\u0000s\u0000t\u0000 \u0000r\u0000e\u0000c\u0000e\u0000n\u0000t\u0000 \u0000v\u0000e\u0000r\u0000s\u0000i\u0000o\u0000n\u0000 \u0000o\u0000f\u0000 \u0000W\u0000S\u0000L\u0000 \u0000f\u0000r\u0000o\u0000m\u0000 \u0000t\u0000h\u0000e\u0000 \u0000i\u0000n\u0000t\u0000e\u0000r\u0000n\u0000e\u0000t\u0000 \u0000i\u0000n\u0000s\u0000t\u0000e\u0000a\u0000d\u0000 \u0000o\u0000f\u0000 \u0000t\u0000h\u0000e\u0000 \u0000M\u0000i\u0000c\u0000r\u0000o\u0000s\u0000o\u0000f\u0000t\u0000 \u0000S\u0000t\u0000o\u0000r\u0000e\u0000.\u0000\n",
      "\u0000\n",
      "\u0000\n",
      "\u0000\n",
      "\u0000\n",
      "\u0000\n",
      "\u0000 \u0000 \u0000 \u0000 \u0000-\u0000-\u0000l\u0000i\u0000s\u0000t\u0000,\u0000 \u0000-\u0000l\u0000 \u0000[\u0000O\u0000p\u0000t\u0000i\u0000o\u0000n\u0000s\u0000]\u0000\n",
      "\u0000\n",
      "\u0000\n",
      "\u0000 \u0000 \u0000 \u0000 \u0000 \u0000 \u0000 \u0000 \u0000L\u0000i\u0000s\u0000t\u0000s\u0000 \u0000d\u0000i\u0000s\u0000t\u0000r\u0000i\u0000b\u0000u\u0000t\u0000i\u0000o\u0000n\u0000s\u0000.\u0000\n",
      "\u0000\n",
      "\u0000\n",
      "\u0000\n",
      "\u0000\n",
      "\u0000\n",
      "\u0000 \u0000 \u0000 \u0000 \u0000 \u0000 \u0000 \u0000 \u0000O\u0000p\u0000t\u0000i\u0000o\u0000n\u0000s\u0000:\u0000\n",
      "\u0000\n",
      "\u0000\n",
      "\u0000 \u0000 \u0000 \u0000 \u0000 \u0000 \u0000 \u0000 \u0000 \u0000 \u0000 \u0000 \u0000-\u0000-\u0000o\u0000n\u0000l\u0000i\u0000n\u0000e\u0000,\u0000 \u0000-\u0000o\u0000\n",
      "\u0000\n",
      "\u0000\n",
      "\u0000 \u0000 \u0000 \u0000 \u0000 \u0000 \u0000 \u0000 \u0000 \u0000 \u0000 \u0000 \u0000 \u0000 \u0000 \u0000 \u0000D\u0000i\u0000s\u0000p\u0000l\u0000a\u0000y\u0000s\u0000 \u0000a\u0000 \u0000l\u0000i\u0000s\u0000t\u0000 \u0000o\u0000f\u0000 \u0000a\u0000v\u0000a\u0000i\u0000l\u0000a\u0000b\u0000l\u0000e\u0000 \u0000d\u0000i\u0000s\u0000t\u0000r\u0000i\u0000b\u0000u\u0000t\u0000i\u0000o\u0000n\u0000s\u0000 \u0000f\u0000o\u0000r\u0000 \u0000i\u0000n\u0000s\u0000t\u0000a\u0000l\u0000l\u0000 \u0000w\u0000i\u0000t\u0000h\u0000 \u0000'\u0000w\u0000s\u0000l\u0000 \u0000-\u0000-\u0000i\u0000n\u0000s\u0000t\u0000a\u0000l\u0000l\u0000'\u0000.\u0000\n",
      "\u0000\n",
      "\u0000\n",
      "\u0000\n",
      "\u0000\n",
      "\u0000\n",
      "\u0000 \u0000 \u0000 \u0000 \u0000-\u0000-\u0000s\u0000t\u0000a\u0000t\u0000u\u0000s\u0000\n",
      "\u0000\n",
      "\u0000\n",
      "\u0000 \u0000 \u0000 \u0000 \u0000 \u0000 \u0000 \u0000 \u0000S\u0000h\u0000o\u0000w\u0000 \u0000t\u0000h\u0000e\u0000 \u0000s\u0000t\u0000a\u0000t\u0000u\u0000s\u0000 \u0000o\u0000f\u0000 \u0000W\u0000i\u0000n\u0000d\u0000o\u0000w\u0000s\u0000 \u0000S\u0000u\u0000b\u0000s\u0000y\u0000s\u0000t\u0000e\u0000m\u0000 \u0000f\u0000o\u0000r\u0000 \u0000L\u0000i\u0000n\u0000u\u0000x\u0000.\u0000\n",
      "\u0000\n",
      "\u0000\n",
      "\u0000\n",
      "\u0000\n",
      "\u0000\n",
      "\u0000 \u0000 \u0000 \u0000 \u0000-\u0000-\u0000h\u0000e\u0000l\u0000p\u0000\n",
      "\u0000\n",
      "\u0000\n",
      "\u0000 \u0000 \u0000 \u0000 \u0000 \u0000 \u0000 \u0000 \u0000D\u0000i\u0000s\u0000p\u0000l\u0000a\u0000y\u0000 \u0000u\u0000s\u0000a\u0000g\u0000e\u0000 \u0000i\u0000n\u0000f\u0000o\u0000r\u0000m\u0000a\u0000t\u0000i\u0000o\u0000n\u0000.\u0000\n",
      "\u0000\n",
      "\u0000\n",
      "\u0000\n"
     ]
    }
   ],
   "source": [
    "!wsl touch README.md"
   ]
  },
  {
   "cell_type": "markdown",
   "metadata": {},
   "source": [
    "Step 2: Verify that git has seen the file.\n",
    "\n",
    "```bash\n",
    "$ git status\n",
    "# On branch master\n",
    "\n",
    "# No commits yet\n",
    "\n",
    "# Untracked files:\n",
    "#(use \"git add <file>...\" to include in what will be committed) README.md\n",
    "\n",
    "# nothing added to commit but untracked files present (use \"git add\" to track)\n",
    "```\n"
   ]
  },
  {
   "cell_type": "code",
   "execution_count": 9,
   "metadata": {},
   "outputs": [
    {
     "name": "stdout",
     "output_type": "stream",
     "text": [
      "On branch master\n",
      "\n",
      "No commits yet\n",
      "\n",
      "Untracked files:\n",
      "  (use \"git add <file>...\" to include in what will be committed)\n",
      "\t.RData\n",
      "\t.Rhistory\n",
      "\t.ipynb_checkpoints/\n",
      "\tAIMS-Rwanda_Entrance Examination_2023.pdf\n",
      "\tAIMS_Assignment_orginal (1).pdf\n",
      "\tAIMS_Assignment_orginal.pdf\n",
      "\tAIMS_assignment_1 (4) (1).pdf\n",
      "\tAIMS_assignment_1 (4) (2).pdf\n",
      "\tAIMS_assignment_1 (4).pdf\n",
      "\tAssignment1_bash (1).pdf\n",
      "\tAssignment1_bash.pdf\n",
      "\tAssignment3_ODEs.pdf\n",
      "\tAssignment_2_about_mathematical_solving_problem.pdf\n",
      "\tBWIZA.pdf\n",
      "\tCamScanner 04-27-2024 14.01.pdf\n",
      "\tCamScanner 05-23-2024 10.54 (1).pdf\n",
      "\tCamScanner 05-23-2024 10.54 (2).pdf\n",
      "\tCamScanner 05-23-2024 10.54.pdf\n",
      "\tCamScanner 09-20-2023 08.04.pdf\n",
      "\tCamScanner 12-20-2022 17.34 (1).pdf\n",
      "\tCamScanner 12-20-2022 17.34.pdf\n",
      "\t\"DALL\\302\\267E 2024-09-17 08.54.46 - A visual representation of a small circle next to a larger one, showing the difference in their radii. The circles should be simple, clean, and geomet.webp\"\n",
      "\tDIFFERENTIAL_EQUATIONS_2022_CHAP_I_III-1.pdf\n",
      "\tDesktop/\n",
      "\tExercises_Lec6.pdf\n",
      "\tExercises_set1 (1).pdf\n",
      "\tGit-2.46.0-64-bit.exe\n",
      "\tJames Stewart - Essential Calculus_ Early Transcendentals-Brooks Cole (2012).pdf\n",
      "\tLan Kam - Assignment 1.pdf\n",
      "\tLecture1.pdf\n",
      "\tLecture2.pdf\n",
      "\tLecture3.pdf\n",
      "\tLecture4-1.pdf\n",
      "\tLecture5.pdf\n",
      "\tLecture7.pdf\n",
      "\tMPS_Group_14.pdf\n",
      "\tMathAssignement4.pdf\n",
      "\tMathAssignment1 (1).pdf\n",
      "\tMathAssignment1 (2).pdf\n",
      "\tMathAssignment1.pdf\n",
      "\tNicolas_s_ADV_homework.pdf\n",
      "\tPictures/\n",
      "\tPractical_1.ipynb\n",
      "\tProposal_Questions_and_answers_of_python.pdf\n",
      "\tPython_Assignment II.pdf\n",
      "\tQ&A Prov.. (1).pdf\n",
      "\tQ&A Prov.. (2).pdf\n",
      "\tQ&A Prov...pdf\n",
      "\tRData\n",
      "\tRProject (1).Rmd\n",
      "\tRProject (1).pdf\n",
      "\tRProject (2).Rmd\n",
      "\tRProject (3).Rmd\n",
      "\tRProject (4).Rmd\n",
      "\tRProject.Rmd\n",
      "\tRProject.pdf\n",
      "\tRhistory\n",
      "\tRonaldo.jpg\n",
      "\tRprogramming (1).pdf\n",
      "\tRprogramming.pdf\n",
      "\tVSCodeUserSetup-x64-1.93.1.exe\n",
      "\tWhatsApp Image 2024-09-16 at 22.00.49.jpeg\n",
      "\tdata (1).txt\n",
      "\tdata.txt\n",
      "\tdenyse_agahozo_ICLRP.Rmd\n",
      "\tdescription.txt\n",
      "\tdesktop.ini\n",
      "\temile_niyitanga_ICLRP.Rmd\n",
      "\ticlfinalrprojectpleasereadtheinstructionscarefully_.zip\n",
      "\timatele57_m2 (3) (1).pdf\n",
      "\timatele57_m2 (3).pdf\n",
      "\timatele57_m3 (2).pdf\n",
      "\tjanvier_kwizera_ICL.Rmd\n",
      "\tlambert.manishimwe-day00-report.ipynb\n",
      "\tlambert.manishimwe-day01-report.ipynb\n",
      "\tlambert.manishimwe-day02-report.ipynb\n",
      "\tlambert_manishimwe_ICL1 (1).tex\n",
      "\tlambert_manishimwe_ICL1 (2).tex\n",
      "\tlambert_manishimwe_ICL1 (3).tex\n",
      "\tlambert_manishimwe_ICL1.tex\n",
      "\tlambert_manishimwe_ICLRP.Rmd\n",
      "\tlambert_manishimwe_ICLRP_files/\n",
      "\tlambert_manishimwe_ICLRPttttttt.Rmd\n",
      "\tlambert_manishimwe_MPS.pdf\n",
      "\tlambert_manishimwe_MPS2.pdf\n",
      "\tmanishimwelambert86_m1.pdf\n",
      "\tmanishimwelambert86_m2.pdf\n",
      "\tmanishimwelambert86_m3.pdf\n",
      "\tmanishimwelambert86_p1.ipynb\n",
      "\tmanishimwelambert86_p2.ipynb\n",
      "\tolivia_nayamba_ICLRP.Rmd\n",
      "\tproblem-solving2 (1).pdf\n",
      "\tproblem-solving2 (2).pdf\n",
      "\tproblem-solving2 (3).pdf\n",
      "\tproblem-solving2.pdf\n",
      "\tpython_course_colab_notebooks-main.zip\n",
      "\tpython_course_colab_notebooks-main/\n",
      "\tq5 (1).pdf\n",
      "\tq5.pdf\n",
      "\tsimplestats/\n",
      "\tversion_control_local.ipynb\n",
      "\t~$dels questions-1.docx\n",
      "\t~$ntarama.docx\n",
      "\n",
      "nothing added to commit but untracked files present (use \"git add\" to track)\n"
     ]
    }
   ],
   "source": [
    "! git status"
   ]
  },
  {
   "cell_type": "markdown",
   "metadata": {},
   "source": [
    "\n",
    "Step 3 : Inform git that you would like to keep track of future changes\n",
    "in this file.\n",
    "\n",
    "```bash\n",
    "$ git add README.md\n",
    "```"
   ]
  },
  {
   "cell_type": "markdown",
   "metadata": {
    "id": "31901d46"
   },
   "source": [
    "## git status : Checking the status of your local copy\n",
    "\n",
    "The files you've created on your machine are your local \"working\" copy.\n",
    "The changes your make in this local copy aren't backed up online\n",
    "automatically. Until you commit them, the changes you make are local\n",
    "changes. When you change anything, your set of files becomes different\n",
    "from the files in the official repository copy. To find out what's\n",
    "different about them in the terminal, try:\n",
    "\n",
    "```bash\n",
    "$ git status\n",
    "# On branch master\n",
    "#\n",
    "# No commits yet\n",
    "#\n",
    "# Changes to be committed:\n",
    "#   (use \"git rm --cached <file>...\" to unstage)\n",
    "#\n",
    "#       new file:   README.md\n",
    "#\n",
    "```\n",
    "\n",
    "The null result means that you're up to date with the current version of\n",
    "the repository online. This result indicates that the current difference\n",
    "between the repository HEAD (which, so far, is empty) and your\n",
    "`simplestats` directory is this new README.md file."
   ]
  },
  {
   "cell_type": "code",
   "execution_count": 25,
   "metadata": {},
   "outputs": [
    {
     "name": "stdout",
     "output_type": "stream",
     "text": [
      "On branch master\n",
      "\n",
      "No commits yet\n",
      "\n",
      "Untracked files:\n",
      "  (use \"git add <file>...\" to include in what will be committed)\n",
      "\t.RData\n",
      "\t.Rhistory\n",
      "\t.ipynb_checkpoints/\n",
      "\tAIMS-Rwanda_Entrance Examination_2023.pdf\n",
      "\tAIMS_Assignment_orginal (1).pdf\n",
      "\tAIMS_Assignment_orginal.pdf\n",
      "\tAIMS_assignment_1 (4) (1).pdf\n",
      "\tAIMS_assignment_1 (4) (2).pdf\n",
      "\tAIMS_assignment_1 (4).pdf\n",
      "\tAssignment1_bash (1).pdf\n",
      "\tAssignment1_bash.pdf\n",
      "\tAssignment3_ODEs.pdf\n",
      "\tAssignment_2_about_mathematical_solving_problem.pdf\n",
      "\tBWIZA.pdf\n",
      "\tCamScanner 04-27-2024 14.01.pdf\n",
      "\tCamScanner 05-23-2024 10.54 (1).pdf\n",
      "\tCamScanner 05-23-2024 10.54 (2).pdf\n",
      "\tCamScanner 05-23-2024 10.54.pdf\n",
      "\tCamScanner 09-20-2023 08.04.pdf\n",
      "\tCamScanner 12-20-2022 17.34 (1).pdf\n",
      "\tCamScanner 12-20-2022 17.34.pdf\n",
      "\t\"DALL\\302\\267E 2024-09-17 08.54.46 - A visual representation of a small circle next to a larger one, showing the difference in their radii. The circles should be simple, clean, and geomet.webp\"\n",
      "\tDIFFERENTIAL_EQUATIONS_2022_CHAP_I_III-1.pdf\n",
      "\tDesktop/\n",
      "\tExercises_Lec6.pdf\n",
      "\tExercises_set1 (1).pdf\n",
      "\tGit-2.46.0-64-bit.exe\n",
      "\tJames Stewart - Essential Calculus_ Early Transcendentals-Brooks Cole (2012).pdf\n",
      "\tLan Kam - Assignment 1.pdf\n",
      "\tLecture1.pdf\n",
      "\tLecture2.pdf\n",
      "\tLecture3.pdf\n",
      "\tLecture4-1.pdf\n",
      "\tLecture5.pdf\n",
      "\tLecture7.pdf\n",
      "\tMPS_Group_14.pdf\n",
      "\tMathAssignement4.pdf\n",
      "\tMathAssignment1 (1).pdf\n",
      "\tMathAssignment1 (2).pdf\n",
      "\tMathAssignment1.pdf\n",
      "\tNicolas_s_ADV_homework.pdf\n",
      "\tPictures/\n",
      "\tPractical_1.ipynb\n",
      "\tProposal_Questions_and_answers_of_python.pdf\n",
      "\tPython_Assignment II.pdf\n",
      "\tQ&A Prov.. (1).pdf\n",
      "\tQ&A Prov.. (2).pdf\n",
      "\tQ&A Prov...pdf\n",
      "\tRData\n",
      "\tRProject (1).Rmd\n",
      "\tRProject (1).pdf\n",
      "\tRProject (2).Rmd\n",
      "\tRProject (3).Rmd\n",
      "\tRProject (4).Rmd\n",
      "\tRProject.Rmd\n",
      "\tRProject.pdf\n",
      "\tRhistory\n",
      "\tRonaldo.jpg\n",
      "\tRprogramming (1).pdf\n",
      "\tRprogramming.pdf\n",
      "\tVSCodeUserSetup-x64-1.93.1.exe\n",
      "\tWhatsApp Image 2024-09-16 at 22.00.49.jpeg\n",
      "\tdata (1).txt\n",
      "\tdata.txt\n",
      "\tdenyse_agahozo_ICLRP.Rmd\n",
      "\tdescription.txt\n",
      "\tdesktop.ini\n",
      "\temile_niyitanga_ICLRP.Rmd\n",
      "\ticlfinalrprojectpleasereadtheinstructionscarefully_.zip\n",
      "\timatele57_m2 (3) (1).pdf\n",
      "\timatele57_m2 (3).pdf\n",
      "\timatele57_m3 (2).pdf\n",
      "\tjanvier_kwizera_ICL.Rmd\n",
      "\tlambert.manishimwe-day00-report.ipynb\n",
      "\tlambert.manishimwe-day01-report.ipynb\n",
      "\tlambert.manishimwe-day02-report.ipynb\n",
      "\tlambert_manishimwe_ICL1 (1).tex\n",
      "\tlambert_manishimwe_ICL1 (2).tex\n",
      "\tlambert_manishimwe_ICL1 (3).tex\n",
      "\tlambert_manishimwe_ICL1.tex\n",
      "\tlambert_manishimwe_ICLRP.Rmd\n",
      "\tlambert_manishimwe_ICLRP_files/\n",
      "\tlambert_manishimwe_ICLRPttttttt.Rmd\n",
      "\tlambert_manishimwe_MPS.pdf\n",
      "\tlambert_manishimwe_MPS2.pdf\n",
      "\tmanishimwelambert86_m1.pdf\n",
      "\tmanishimwelambert86_m2.pdf\n",
      "\tmanishimwelambert86_m3.pdf\n",
      "\tmanishimwelambert86_p1.ipynb\n",
      "\tmanishimwelambert86_p2.ipynb\n",
      "\tolivia_nayamba_ICLRP.Rmd\n",
      "\tproblem-solving2 (1).pdf\n",
      "\tproblem-solving2 (2).pdf\n",
      "\tproblem-solving2 (3).pdf\n",
      "\tproblem-solving2.pdf\n",
      "\tpython_course_colab_notebooks-main.zip\n",
      "\tpython_course_colab_notebooks-main/\n",
      "\tq5 (1).pdf\n",
      "\tq5.pdf\n",
      "\tsimplestats/\n",
      "\tversion_control_local.ipynb\n",
      "\t~$dels questions-1.docx\n",
      "\t~$ntarama.docx\n",
      "\n",
      "nothing added to commit but untracked files present (use \"git add\" to track)\n"
     ]
    }
   ],
   "source": [
    "!git status"
   ]
  },
  {
   "cell_type": "markdown",
   "metadata": {
    "id": "5c0466af"
   },
   "source": [
    "## git commit : Saving a snapshot\n",
    "\n",
    "In order to save a snapshot of the current state (revision) of the\n",
    "repository, we use the commit command. This command is always associated\n",
    "with a message describing the changes since the last commit and\n",
    "indicating their purpose. Informative commit messages will serve you\n",
    "well someday, so make a habit of never committing changes without at\n",
    "least a full sentence description.\n",
    "\n",
    "**ADVICE: Commit often**\n",
    "\n",
    "In the same way that it is wise to often save a document that you are\n",
    "working on, so too is it wise to save numerous revisions of your code.\n",
    "More frequent commits increase the granularity of your **undo** button.\n",
    "\n",
    "**ADVICE: Good commit messages**\n",
    "\n",
    "There are no hard and fast rules, but good commits are atomic: they are the smallest change that remain meaningful. A good commit message usually contains a one-line description followed by a longer explanation if necessary.\n"
   ]
  },
  {
   "cell_type": "markdown",
   "metadata": {
    "id": "ad25127c"
   },
   "source": [
    "* * * \n",
    "### Practical : Commit Your Changes\n",
    "\n",
    "Step 1 : Commit the file you've added to your repository.\n",
    "\n",
    "```bash\n",
    "$ git commit -am \"This is the first commit. It adds a readme file.\"\n",
    "  [master (root-commit) 664867c] This is the first commit. It adds a readme file.\n",
    "  1 file changed, 0 insertions(+), 0 deletions(-)\n",
    "  create mode 100644 readme.md\n",
    "```  "
   ]
  },
  {
   "cell_type": "markdown",
   "metadata": {},
   "source": [
    "Step 2 : Admire your work.\n",
    "\n",
    "```bash\n",
    "$ git status\n",
    "# On branch master\n",
    "nothing to commit, working tree clean\n",
    "```"
   ]
  },
  {
   "cell_type": "code",
   "execution_count": 15,
   "metadata": {},
   "outputs": [
    {
     "name": "stdout",
     "output_type": "stream",
     "text": [
      "On branch master\n",
      "\n",
      "No commits yet\n",
      "\n",
      "Untracked files:\n",
      "  (use \"git add <file>...\" to include in what will be committed)\n",
      "\t.RData\n",
      "\t.Rhistory\n",
      "\t.ipynb_checkpoints/\n",
      "\tAIMS-Rwanda_Entrance Examination_2023.pdf\n",
      "\tAIMS_Assignment_orginal (1).pdf\n",
      "\tAIMS_Assignment_orginal.pdf\n",
      "\tAIMS_assignment_1 (4) (1).pdf\n",
      "\tAIMS_assignment_1 (4) (2).pdf\n",
      "\tAIMS_assignment_1 (4).pdf\n",
      "\tAssignment1_bash (1).pdf\n",
      "\tAssignment1_bash.pdf\n",
      "\tAssignment3_ODEs.pdf\n",
      "\tAssignment_2_about_mathematical_solving_problem.pdf\n",
      "\tBWIZA.pdf\n",
      "\tCamScanner 04-27-2024 14.01.pdf\n",
      "\tCamScanner 05-23-2024 10.54 (1).pdf\n",
      "\tCamScanner 05-23-2024 10.54 (2).pdf\n",
      "\tCamScanner 05-23-2024 10.54.pdf\n",
      "\tCamScanner 09-20-2023 08.04.pdf\n",
      "\tCamScanner 12-20-2022 17.34 (1).pdf\n",
      "\tCamScanner 12-20-2022 17.34.pdf\n",
      "\t\"DALL\\302\\267E 2024-09-17 08.54.46 - A visual representation of a small circle next to a larger one, showing the difference in their radii. The circles should be simple, clean, and geomet.webp\"\n",
      "\tDIFFERENTIAL_EQUATIONS_2022_CHAP_I_III-1.pdf\n",
      "\tDesktop/\n",
      "\tExercises_Lec6.pdf\n",
      "\tExercises_set1 (1).pdf\n",
      "\tGit-2.46.0-64-bit.exe\n",
      "\tJames Stewart - Essential Calculus_ Early Transcendentals-Brooks Cole (2012).pdf\n",
      "\tLan Kam - Assignment 1.pdf\n",
      "\tLecture1.pdf\n",
      "\tLecture2.pdf\n",
      "\tLecture3.pdf\n",
      "\tLecture4-1.pdf\n",
      "\tLecture5.pdf\n",
      "\tLecture7.pdf\n",
      "\tMPS_Group_14.pdf\n",
      "\tMathAssignement4.pdf\n",
      "\tMathAssignment1 (1).pdf\n",
      "\tMathAssignment1 (2).pdf\n",
      "\tMathAssignment1.pdf\n",
      "\tNicolas_s_ADV_homework.pdf\n",
      "\tPictures/\n",
      "\tPractical_1.ipynb\n",
      "\tProposal_Questions_and_answers_of_python.pdf\n",
      "\tPython_Assignment II.pdf\n",
      "\tQ&A Prov.. (1).pdf\n",
      "\tQ&A Prov.. (2).pdf\n",
      "\tQ&A Prov...pdf\n",
      "\tRData\n",
      "\tRProject (1).Rmd\n",
      "\tRProject (1).pdf\n",
      "\tRProject (2).Rmd\n",
      "\tRProject (3).Rmd\n",
      "\tRProject (4).Rmd\n",
      "\tRProject.Rmd\n",
      "\tRProject.pdf\n",
      "\tRhistory\n",
      "\tRonaldo.jpg\n",
      "\tRprogramming (1).pdf\n",
      "\tRprogramming.pdf\n",
      "\tVSCodeUserSetup-x64-1.93.1.exe\n",
      "\tWhatsApp Image 2024-09-16 at 22.00.49.jpeg\n",
      "\tdata (1).txt\n",
      "\tdata.txt\n",
      "\tdenyse_agahozo_ICLRP.Rmd\n",
      "\tdescription.txt\n",
      "\tdesktop.ini\n",
      "\temile_niyitanga_ICLRP.Rmd\n",
      "\ticlfinalrprojectpleasereadtheinstructionscarefully_.zip\n",
      "\timatele57_m2 (3) (1).pdf\n",
      "\timatele57_m2 (3).pdf\n",
      "\timatele57_m3 (2).pdf\n",
      "\tjanvier_kwizera_ICL.Rmd\n",
      "\tlambert.manishimwe-day00-report.ipynb\n",
      "\tlambert.manishimwe-day01-report.ipynb\n",
      "\tlambert.manishimwe-day02-report.ipynb\n",
      "\tlambert_manishimwe_ICL1 (1).tex\n",
      "\tlambert_manishimwe_ICL1 (2).tex\n",
      "\tlambert_manishimwe_ICL1 (3).tex\n",
      "\tlambert_manishimwe_ICL1.tex\n",
      "\tlambert_manishimwe_ICLRP.Rmd\n",
      "\tlambert_manishimwe_ICLRP_files/\n",
      "\tlambert_manishimwe_ICLRPttttttt.Rmd\n",
      "\tlambert_manishimwe_MPS.pdf\n",
      "\tlambert_manishimwe_MPS2.pdf\n",
      "\tmanishimwelambert86_m1.pdf\n",
      "\tmanishimwelambert86_m2.pdf\n",
      "\tmanishimwelambert86_m3.pdf\n",
      "\tmanishimwelambert86_p1.ipynb\n",
      "\tmanishimwelambert86_p2.ipynb\n",
      "\tolivia_nayamba_ICLRP.Rmd\n",
      "\tproblem-solving2 (1).pdf\n",
      "\tproblem-solving2 (2).pdf\n",
      "\tproblem-solving2 (3).pdf\n",
      "\tproblem-solving2.pdf\n",
      "\tpython_course_colab_notebooks-main.zip\n",
      "\tpython_course_colab_notebooks-main/\n",
      "\tq5 (1).pdf\n",
      "\tq5.pdf\n",
      "\tsimplestats/\n",
      "\tversion_control_local.ipynb\n",
      "\t~$dels questions-1.docx\n",
      "\t~$ntarama.docx\n",
      "\n",
      "nothing added to commit but untracked files present (use \"git add\" to track)\n"
     ]
    }
   ],
   "source": [
    "!git status"
   ]
  },
  {
   "cell_type": "markdown",
   "metadata": {
    "id": "46cbed6f"
   },
   "source": [
    "## git diff : Viewing the Differences\n",
    "\n",
    "There are many diff tools.\n",
    "\n",
    "If you have a favorite you can set your default git diff tool to execute that one. Git, however, comes with its own diff system.\n",
    "\n",
    "Let's recall the behavior of the linux [`diff`](https://www.geeksforgeeks.org/diff-command-linux-examples/) command on the command line. The equivalent command for windows is [fc](https://www.howtogeek.com/206123/how-to-use-fc-file-compare-from-the-windows-command-prompt/). Choosing two files that are similar, the command:\n",
    "\n",
    "```bash\n",
    "$!diff file1 file2\n",
    "```\n",
    "\n",
    "will output the lines that differ between the two files. This information can be saved as what's known as a patch, but we won't go deeply into that just now.\n"
   ]
  },
  {
   "cell_type": "markdown",
   "metadata": {},
   "source": [
    "The only difference between the command line diff tool and git's diff tool is that the git tool is aware of all of the revisions in your repository, allowing each revision of each file to be treated as a full file.\n",
    "\n",
    "\n",
    "Thus, git diff will output the changes in your working directory that are not yet staged for a commit. To see how this works, make a change in your `README.md` file, but don't yet commit it.\n",
    "\n",
    "```bash\n",
    "$ git diff\n",
    "```"
   ]
  },
  {
   "cell_type": "code",
   "execution_count": 17,
   "metadata": {},
   "outputs": [],
   "source": [
    "!git diff"
   ]
  },
  {
   "cell_type": "markdown",
   "metadata": {},
   "source": [
    "A summarized version of this output can be output with the `--stat` flag :\n",
    "\n",
    "```bash\n",
    "$ git diff --stat\n",
    "```"
   ]
  },
  {
   "cell_type": "markdown",
   "metadata": {},
   "source": [
    "To see only the differences in a certain path, try:\n",
    "\n",
    "```bash\n",
    "$ git diff HEAD -- [path]\n",
    "```"
   ]
  },
  {
   "cell_type": "markdown",
   "metadata": {},
   "source": [
    "To see what IS staged for commit (that is, what will be committed if you\n",
    "type git commit without the -a flag), you can try :\n",
    "```bash\n",
    "$ git diff --cached\n",
    "```"
   ]
  },
  {
   "cell_type": "code",
   "execution_count": 26,
   "metadata": {},
   "outputs": [],
   "source": [
    "!git diff --cached"
   ]
  },
  {
   "cell_type": "markdown",
   "metadata": {
    "id": "181eb736"
   },
   "source": [
    "## git log : Viewing the History\n",
    "\n",
    "A log of the commit messages is kept by the repository and can be\n",
    "reviewed with the log command.\n",
    "\n",
    "```bash\n",
    "    $ git log       \n",
    "   commit 664867c42a05461702388310155b785a287d0308 (HEAD -> master)\n",
    "    Author: Techni Preneurs <ai.technipreneurs@gmail.com>\n",
    "    Date:   Wed Sep 11 20:31:07 2024 +0200\n",
    "\n",
    "        This is the first commit. It adds a readme file.    \n",
    "```\n"
   ]
  },
  {
   "cell_type": "markdown",
   "metadata": {},
   "source": [
    "There are some useful flags for this command, such as\n",
    "\n",
    "    -p\n",
    "    -3\n",
    "    --stat\n",
    "    --oneline\n",
    "    --graph\n",
    "    --pretty=short/full/fuller/oneline\n",
    "    --since=X.minutes/hours/days/weeks/months/years or YY-MM-DD-HH:MM\n",
    "    --until=X.minutes/hours/days/weeks/months/years or YY-MM-DD-HH:MM\n",
    "    --author=<pattern>"
   ]
  },
  {
   "cell_type": "code",
   "execution_count": null,
   "metadata": {},
   "outputs": [],
   "source": [
    "!git log"
   ]
  },
  {
   "cell_type": "markdown",
   "metadata": {
    "id": "8f0edce4"
   },
   "source": [
    "## git reset : Unstaging a staged file\n",
    "\n",
    "There are a number of ways that you may accidentally stage a file that\n",
    "you don't want to commit.  Create a file called `temp_notes` that\n",
    "describes what you had for breakfast, and then add that file to your\n",
    "repo.  Check with `status` to see that it is added but not committed.\n",
    "\n",
    "You can now unstage that file with:\n",
    "\n",
    "```bash\n",
    "$ git reset temp_notes\n",
    "```\n",
    "\n",
    "Check with `status`."
   ]
  },
  {
   "cell_type": "code",
   "execution_count": null,
   "metadata": {},
   "outputs": [],
   "source": [
    "!git reset temp_notes"
   ]
  },
  {
   "cell_type": "markdown",
   "metadata": {
    "id": "f949535f"
   },
   "source": [
    "## git checkout : Discarding unstaged modifications (git checkout has other purposes)\n",
    "\n",
    "Perhaps you have made a number of changes that you realize are not\n",
    "going anywhere.  Add a line to `README.md` that describes your dinner\n",
    "last night.  Check with `status` to see that the file is changed and\n",
    "ready to be added.\n",
    "\n",
    "You can now return to previous checked in version with:\n",
    "```bash\n",
    "$ git checkout -- README.md\n",
    "```\n",
    "Check with `status` and take a look at the file."
   ]
  },
  {
   "cell_type": "markdown",
   "metadata": {
    "id": "7b00e29e"
   },
   "source": [
    "## git rm : Removing files\n",
    "\n",
    "There are a variety of reasons you way want to remove a file from the\n",
    "repository after it has been committed.  Create a file called `READYOU.md` with the first names of all your immediate family members, and add/commit it to the repository.\n",
    "\n",
    "You can now remove the file from the repository with:\n",
    "\n",
    "```bash\n",
    "$ git rm READYOU.md\n",
    "```\n",
    "List the directory to see that you have no file named `READYOU.md`. Use `status` to determine if you need any additional steps."
   ]
  },
  {
   "cell_type": "code",
   "execution_count": null,
   "metadata": {},
   "outputs": [],
   "source": [
    "!git rm READ YOU.md"
   ]
  },
  {
   "cell_type": "markdown",
   "metadata": {},
   "source": [
    "What if you delete a file in the shell without `git rm`? Try deleting `README.md`\n",
    "```bash\n",
    "$ rm README.md\n",
    "```\n",
    "\n",
    "\n"
   ]
  },
  {
   "cell_type": "code",
   "execution_count": null,
   "metadata": {},
   "outputs": [],
   "source": [
    "!rm README.md"
   ]
  },
  {
   "cell_type": "markdown",
   "metadata": {},
   "source": [
    "What does `git status` say?  Oops! How can you recover this important\n",
    "file?\n",
    "```bash\n",
    "$ git checkout -- README.md\n",
    "```"
   ]
  },
  {
   "cell_type": "markdown",
   "metadata": {
    "id": "1d3ecc05"
   },
   "source": [
    "## git revert : the promised \"undo\" button\n",
    "\n",
    "It is possible that after many commits, you decide that you really want to **rollback** a set of commits and start over.  It is easy to revert your code to a previous version.\n",
    "\n",
    "You can use `git log` and `git diff` to explore your history and determine which version you are interested in.  Choose a version and note the *hash* for that version. (Let's assume `abc456`)\n",
    "\n",
    "```bash\n",
    "$ git revert abc456\n",
    "```\n",
    "\n",
    "**Importantly,** this will not erase the intervening commits.  This will create a new commit that is changed from the previous commit by a change that will recreate the desired version.  This retains a complete provenance of your software, and be compared to the prohibition in removing pages from a lab notebook."
   ]
  },
  {
   "cell_type": "markdown",
   "metadata": {},
   "source": [
    "## Visualize Git Log Tree\n",
    "For this section, you can read the necessary information [here](https://tech.serhatteker.com/post/2021-02/git-log-tree/). The idea is just to make your commits a bit fancy. To really see the beauty of it, try to play with your files and do quite a number of commits.\n",
    "\n",
    "```bash\n",
    "$ git log\n",
    "```\n",
    "\n",
    "or \n",
    "\n",
    "```bash\n",
    "$ git log --pretty=oneline\n",
    "```\n",
    "\n",
    "or\n",
    "\n",
    "```bash\n",
    "$ git log --graph --pretty='%Cred%h%Creset -%C(auto)%d%Creset %s %Cgreen(%cr) %C(bold blue)<%an>%Creset' --all\n",
    "```"
   ]
  },
  {
   "cell_type": "code",
   "execution_count": null,
   "metadata": {},
   "outputs": [],
   "source": [
    "!git log"
   ]
  },
  {
   "cell_type": "markdown",
   "metadata": {
    "id": "a60621d6"
   },
   "source": [
    "* * * *\n",
    "### Exercise :\n",
    "\n",
    "1. Create 5 files in your directory with one line of content in each\n",
    "   file.\n",
    "2. Commit the files to the repository.\n",
    "3. Change 2 of the 5 files and commit them.\n",
    "4. Undo the changes in step 3.\n",
    "5. Print out the last entry in the log.\n",
    "    \n",
    "* * * *"
   ]
  },
  {
   "cell_type": "markdown",
   "metadata": {
    "id": "15b9e659"
   },
   "source": [
    "## Resources\n",
    "\n",
    "1. [git book](http://git-scm.com/book) - Free and Open"
   ]
  }
 ],
 "metadata": {
  "colab": {
   "provenance": []
  },
  "kernelspec": {
   "display_name": "Python 3 (ipykernel)",
   "language": "python",
   "name": "python3"
  },
  "language_info": {
   "codemirror_mode": {
    "name": "ipython",
    "version": 3
   },
   "file_extension": ".py",
   "mimetype": "text/x-python",
   "name": "python",
   "nbconvert_exporter": "python",
   "pygments_lexer": "ipython3",
   "version": "3.11.5"
  }
 },
 "nbformat": 4,
 "nbformat_minor": 1
}
